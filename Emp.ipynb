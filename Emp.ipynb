{
 "cells": [
  {
   "cell_type": "code",
   "execution_count": 1,
   "id": "04746573",
   "metadata": {},
   "outputs": [
    {
     "name": "stdout",
     "output_type": "stream",
     "text": [
      "Name: Dilip Markandan, DOB: 1995-07-21, Height: 183, City: Bangalore, State: KA\n",
      "Name: Rohith Jaganathan, DOB: 1999-02-07, Height: 162, City: Bangalore, State: KA\n",
      "Name: Surya Ramesh, DOB: 2000-03-17, Height: 180, City: Bangalore, State: KA\n",
      "Name: Karthik Markandan, DOB: 1992-12-01, Height: 186, City: Bangalore, State: KA\n",
      "Name: Ramya Ravikumar, DOB: 1999-08-17, Height: 175, City: Mysore, State: KA\n"
     ]
    }
   ],
   "source": [
    "import json\n",
    "\n",
    "class Employee:\n",
    "    def __init__(self, name, dob, height, city, state):\n",
    "        self.name = name\n",
    "        self.dob = dob\n",
    "        self.height = height\n",
    "        self.city = city\n",
    "        self.state = state\n",
    "\n",
    "def main():\n",
    "    employee_objects = []\n",
    "\n",
    "    with open('employee.json', 'r') as json_file:\n",
    "        employee_data = json.load(json_file)\n",
    "\n",
    "    for emp_info in employee_data:\n",
    "        employee_objects.append(Employee(\n",
    "            emp_info[\"Name\"],\n",
    "            emp_info[\"DOB\"],\n",
    "            emp_info[\"Height\"],\n",
    "            emp_info[\"City\"],\n",
    "            emp_info[\"State\"]\n",
    "        ))\n",
    "\n",
    "    for emp in employee_objects:\n",
    "        print(f\"Name: {emp.name}, DOB: {emp.dob}, Height: {emp.height}, City: {emp.city}, State: {emp.state}\")\n",
    "\n",
    "if __name__ == \"__main__\":\n",
    "    main()"
   ]
  },
  {
   "cell_type": "code",
   "execution_count": null,
   "id": "a2cd5aad",
   "metadata": {},
   "outputs": [],
   "source": []
  }
 ],
 "metadata": {
  "kernelspec": {
   "display_name": "Python 3 (ipykernel)",
   "language": "python",
   "name": "python3"
  },
  "language_info": {
   "codemirror_mode": {
    "name": "ipython",
    "version": 3
   },
   "file_extension": ".py",
   "mimetype": "text/x-python",
   "name": "python",
   "nbconvert_exporter": "python",
   "pygments_lexer": "ipython3",
   "version": "3.10.9"
  }
 },
 "nbformat": 4,
 "nbformat_minor": 5
}
